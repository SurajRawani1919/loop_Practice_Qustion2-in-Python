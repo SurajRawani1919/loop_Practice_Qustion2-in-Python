{
 "cells": [
  {
   "cell_type": "code",
   "execution_count": 2,
   "id": "8b5210dc-3a9b-448a-bd7c-6e1a3e5f183b",
   "metadata": {},
   "outputs": [
    {
     "name": "stdout",
     "output_type": "stream",
     "text": [
      "apple\n",
      "orange\n",
      "umbrella\n"
     ]
    }
   ],
   "source": [
    "#1.Using a for loop, iterate over a list of strings and print only those that start with a vowel.\n",
    "words = [\"apple\", \"banana\", \"orange\", \"umbrella\", \"grape\"]\n",
    "vowels = 'AEIOUaeiou'\n",
    "for word in words:\n",
    " if word[0] in vowels:\n",
    "  print(word)"
   ]
  },
  {
   "cell_type": "code",
   "execution_count": 1,
   "id": "595f2e10-237e-46b2-94e6-c44dd2c3ad78",
   "metadata": {},
   "outputs": [
    {
     "name": "stdout",
     "output_type": "stream",
     "text": [
      "The product of all even numbers between 1 and 20 is: 3715891200\n"
     ]
    }
   ],
   "source": [
    "#2.Write a while loop that calculates the product of all even numbers between 1 and 20\n",
    "product = 1\n",
    "num = 2  \n",
    "while num <= 20:\n",
    "    product *= num  \n",
    "    num += 2  \n",
    "print(\"The product of all even numbers between 1 and 20 is:\", product)\n"
   ]
  },
  {
   "cell_type": "code",
   "execution_count": 13,
   "id": "e5701494-a7ee-4155-aa34-343944d0e2f6",
   "metadata": {},
   "outputs": [
    {
     "name": "stdin",
     "output_type": "stream",
     "text": [
      "Enter number:  7\n"
     ]
    },
    {
     "name": "stdout",
     "output_type": "stream",
     "text": [
      "7 x 1 : 7\n",
      "7 x 2 : 14\n",
      "7 x 3 : 21\n",
      "7 x 4 : 28\n",
      "7 x 5 : 35\n",
      "7 x 6 : 42\n",
      "7 x 7 : 49\n",
      "7 x 8 : 56\n",
      "7 x 9 : 63\n",
      "7 x 10 : 70\n"
     ]
    }
   ],
   "source": [
    "#3.Using a for loop, print the multiplication table of 7.\n",
    "a = int(input(\"Enter number: \"))\n",
    "for i in range(1, 11):  \n",
    "    print(f'{a} x {i} :', a * i)\n"
   ]
  },
  {
   "cell_type": "code",
   "execution_count": 2,
   "id": "5bff036b-080c-4d94-89b0-3bf954628674",
   "metadata": {},
   "outputs": [
    {
     "name": "stdin",
     "output_type": "stream",
     "text": [
      "Enter a value (or 'stop' to finish):  suraj\n",
      "Enter a value (or 'stop' to finish):  ashu\n",
      "Enter a value (or 'stop' to finish):  stop\n"
     ]
    },
    {
     "name": "stdout",
     "output_type": "stream",
     "text": [
      "['suraj', 'ashu']\n"
     ]
    }
   ],
   "source": [
    "#4.Write a while loop that continuously takes user input and adds it to a list until the user enters 'stop'.\n",
    "user_list = []\n",
    "while True:\n",
    " user_input = input(\"Enter a value (or 'stop' to finish): \")\n",
    " if user_input.lower() == 'stop':\n",
    "  break\n",
    " user_list.append(user_input)\n",
    "print(user_list)\n"
   ]
  },
  {
   "cell_type": "code",
   "execution_count": 24,
   "id": "af12447f-175b-47a8-9c32-8d167fe47da2",
   "metadata": {},
   "outputs": [
    {
     "name": "stdout",
     "output_type": "stream",
     "text": [
      "The sum of squares of even numbers is: 20\n"
     ]
    }
   ],
   "source": [
    "#6.Create a for loop that iterates over a list of numbers and prints the sum of squares of even numbers\n",
    "list = [1, 2, 3, 4, 5]\n",
    "\n",
    "sum_of_squares = 0\n",
    "for num in list:\n",
    "    if num % 2 == 0:\n",
    "        sum_of_squares += num ** 2\n",
    "print(\"The sum of squares of even numbers is:\", sum_of_squares)"
   ]
  },
  {
   "cell_type": "code",
   "execution_count": 25,
   "id": "e8d4b887-6a33-4cbc-8c22-392d0d6365bc",
   "metadata": {},
   "outputs": [
    {
     "name": "stdin",
     "output_type": "stream",
     "text": [
      "Enter a number:  5\n"
     ]
    },
    {
     "name": "stdout",
     "output_type": "stream",
     "text": [
      "Factorial of 5: 120\n"
     ]
    }
   ],
   "source": [
    "#7.Using a while loop, calculate the factorial of a number provided by the user.\n",
    "n = int(input(\"Enter a number: \"))\n",
    "fact = 1\n",
    "i = 1\n",
    "\n",
    "while i <= n:\n",
    "    fact *= i  \n",
    "    i += 1     \n",
    "\n",
    "print(f\"Factorial of {n}: {fact}\")\n"
   ]
  },
  {
   "cell_type": "code",
   "execution_count": 27,
   "id": "6b1a527f-50d8-4f78-830e-fc0bdfd1dcae",
   "metadata": {},
   "outputs": [
    {
     "name": "stdout",
     "output_type": "stream",
     "text": [
      "Sum of 1 and 10: 11\n",
      "Sum of 2 and 20: 22\n",
      "Sum of 3 and 30: 33\n",
      "Sum of 4 and 40: 44\n",
      "Sum of 5 and 50: 55\n"
     ]
    }
   ],
   "source": [
    "#8.Write a for loop that iterates over two lists simultaneously and prints the sum of corresponding elements.\n",
    "list1 = [1, 2, 3, 4, 5]\n",
    "list2 = [10, 20, 30, 40, 50]\n",
    "\n",
    "\n",
    "for x, y in zip(list1, list2):\n",
    "    print(f\"Sum of {x} and {y}: {x + y}\")\n"
   ]
  },
  {
   "cell_type": "code",
   "execution_count": 29,
   "id": "2bd9b30a-f3b8-4d22-bcdc-2a4a9f1b9a1b",
   "metadata": {},
   "outputs": [
    {
     "name": "stdin",
     "output_type": "stream",
     "text": [
      "Enter a number:  123\n"
     ]
    },
    {
     "name": "stdout",
     "output_type": "stream",
     "text": [
      "Reversed number: 321\n"
     ]
    }
   ],
   "source": [
    "#9.Create a while loop that reverses the digits of a number provided by the user.\n",
    "n = int(input(\"Enter a number: \"))\n",
    "\n",
    "reversed_number = 0\n",
    "while n > 0:\n",
    "    rem = n % 10  \n",
    "    reversed_number = reversed_number * 10 + rem\n",
    "    n = n // 10  \n",
    "print(\"Reversed number:\", reversed_number)\n",
    "\n",
    "#number = input(\"Enter a number to reverse its digits: \")\n",
    "#reversed_number = number[::-1]\n",
    "#print(reversed_number)\n"
   ]
  },
  {
   "cell_type": "code",
   "execution_count": 30,
   "id": "7761ff77-20a7-47d8-b85c-cff7e014e7de",
   "metadata": {},
   "outputs": [
    {
     "name": "stdout",
     "output_type": "stream",
     "text": [
      "Squares of odd numbers: [1, 9, 25, 49, 81]\n"
     ]
    }
   ],
   "source": [
    "#10.Using a for loop, iterate through a list and create a new list containing the squares of only the odd numbers\n",
    "numbers = [1, 2, 3, 4, 5, 6, 7, 8, 9, 10]\n",
    "\n",
    "squares_of_odds = []\n",
    "for num in numbers:\n",
    "    if num % 2 != 0:\n",
    "        squares_of_odds.append(num ** 2)\n",
    "print(\"Squares of odd numbers:\", squares_of_odds)\n",
    "\n"
   ]
  },
  {
   "cell_type": "code",
   "execution_count": 8,
   "id": "4809ca55-3d31-4708-88fe-0e77308bf1d5",
   "metadata": {},
   "outputs": [
    {
     "name": "stdin",
     "output_type": "stream",
     "text": [
      "Enter a number:  123\n"
     ]
    },
    {
     "name": "stdout",
     "output_type": "stream",
     "text": [
      "127\n"
     ]
    }
   ],
   "source": [
    "#11.Write a while loop to find the smallest prime number greater than a given number n\n",
    "def is_prime(num):\n",
    "    if num <= 1:\n",
    "        return False\n",
    "    for i in range(2, int(num**0.5) + 1):\n",
    "        if num % i == 0:\n",
    "            return False\n",
    "    return True  # This should be outside the for loop\n",
    "\n",
    "n = int(input(\"Enter a number: \"))\n",
    "candidate = n + 1\n",
    "while not is_prime(candidate):\n",
    "    candidate += 1\n",
    "print(candidate)\n"
   ]
  },
  {
   "cell_type": "code",
   "execution_count": 1,
   "id": "46870397-4157-43f7-a4b5-eba7144161dc",
   "metadata": {
    "scrolled": true
   },
   "outputs": [
    {
     "name": "stdout",
     "output_type": "stream",
     "text": [
      "Number of words with more than 5 characters  : 1\n"
     ]
    }
   ],
   "source": [
    "#12.Using a for loop, count how many words in a list of strings have more than 5 characters\n",
    "\n",
    "words = [\"Suraj\",\"Singh\",\"Chandravamshi\"]\n",
    "count = 0\n",
    "\n",
    "\n",
    "for word in words:\n",
    "    if len(word) > 5:\n",
    "        count += 1 \n",
    "print(f\"Number of words with more than 5 characters  :\", count)\n"
   ]
  },
  {
   "cell_type": "code",
   "execution_count": 4,
   "id": "f19ad68c-dbba-44d9-845a-c8d98fdcd1b7",
   "metadata": {},
   "outputs": [
    {
     "name": "stdout",
     "output_type": "stream",
     "text": [
      "5\n",
      "3\n",
      "4\n",
      "5\n",
      "10\n",
      "7\n"
     ]
    }
   ],
   "source": [
    "#13.Create a while loop that generates and prints a random number between 1 and 10 until the number 7 is generated. \n",
    "import random\n",
    "\n",
    "number = 0\n",
    "\n",
    "while number != 7:\n",
    "    number = random.randint(1, 10)\n",
    "    print(number)\n"
   ]
  },
  {
   "cell_type": "code",
   "execution_count": 14,
   "id": "3ec00013-f7f5-41ba-aaf4-a34becde0bcf",
   "metadata": {},
   "outputs": [
    {
     "name": "stdout",
     "output_type": "stream",
     "text": [
      "(2, 4)\n",
      "(6, 8)\n"
     ]
    }
   ],
   "source": [
    "# 14. Print the tuple where both elements are even numbers.\n",
    "tuples = [(2, 4), (3, 5), (6, 8)]\n",
    "for t in tuples:\n",
    " if t[0] % 2 == 0 and t[1] % 2 == 0:\n",
    "    print(t)"
   ]
  },
  {
   "cell_type": "code",
   "execution_count": 16,
   "id": "4ca5fdf5-df8c-4695-b097-177a4d528a56",
   "metadata": {},
   "outputs": [
    {
     "name": "stdin",
     "output_type": "stream",
     "text": [
      "Enter your age (between 1 and 120):  125\n"
     ]
    },
    {
     "name": "stdout",
     "output_type": "stream",
     "text": [
      "Invalid input. Please enter a number between 1 and 120.\n"
     ]
    },
    {
     "name": "stdin",
     "output_type": "stream",
     "text": [
      "Enter your age (between 1 and 120):  22\n"
     ]
    },
    {
     "name": "stdout",
     "output_type": "stream",
     "text": [
      "Valid age: 22\n"
     ]
    }
   ],
   "source": [
    "# 15. Prompt the user to input their age and validate that it’s a number between 1 and 120.\n",
    "while True:\n",
    " age = input(\"Enter your age (between 1 and 120): \")\n",
    " if age.isdigit() and 1 <= int(age) <= 120:\n",
    "  break\n",
    " print(\"Invalid input. Please enter a number between 1 and 120.\")\n",
    "print(f\"Valid age: {age}\")"
   ]
  },
  {
   "cell_type": "code",
   "execution_count": 17,
   "id": "f73bcc74-5163-45b5-8313-b51581af2fca",
   "metadata": {},
   "outputs": [
    {
     "name": "stdout",
     "output_type": "stream",
     "text": [
      "3\n"
     ]
    }
   ],
   "source": [
    "# 16. Find the index of the maximum value in a list of integers.\n",
    "                 \n",
    "numbers = [3, 7, 2, 8, 5]\n",
    "max_index = 0\n",
    "for i in range(1, len(numbers)):\n",
    " if numbers[i] > numbers[max_index]:\n",
    "     max_index = i\n",
    "print(max_index)"
   ]
  },
  {
   "cell_type": "code",
   "execution_count": 19,
   "id": "f9ee5ea2-cc6a-4a83-bb9c-20c57a326de7",
   "metadata": {},
   "outputs": [
    {
     "name": "stdin",
     "output_type": "stream",
     "text": [
      "Enter a number to halve:  1.5\n"
     ]
    },
    {
     "name": "stdout",
     "output_type": "stream",
     "text": [
      "0.75\n"
     ]
    }
   ],
   "source": [
    "# 17. Keep halving a number provided by the user until it becomes less than 1.\n",
    "number = float(input(\"Enter a number to halve: \"))\n",
    "while number >= 1:\n",
    " number /= 2\n",
    " print(number)"
   ]
  },
  {
   "cell_type": "code",
   "execution_count": 22,
   "id": "0ccafd57-b245-4d2a-8192-d0d86d44aedf",
   "metadata": {},
   "outputs": [
    {
     "name": "stdin",
     "output_type": "stream",
     "text": [
      "Enter a number to check if it's a palindrome:  121\n"
     ]
    },
    {
     "name": "stdout",
     "output_type": "stream",
     "text": [
      "Palindrome\n"
     ]
    }
   ],
   "source": [
    "# 18. Check if a number is a palindrome.\n",
    "number = input(\"Enter a number to check if it's a palindrome: \")\n",
    "if number == number[::-1]:\n",
    " print(\"Palindrome\")\n",
    "else:\n",
    " print(\"Not a palindrome\")"
   ]
  },
  {
   "cell_type": "code",
   "execution_count": 25,
   "id": "26490d22-a6e3-4a41-bfa2-2b9a9c010798",
   "metadata": {},
   "outputs": [
    {
     "name": "stdin",
     "output_type": "stream",
     "text": [
      "Enter the first number:  2\n",
      "Enter the second number:  3\n"
     ]
    },
    {
     "name": "stdout",
     "output_type": "stream",
     "text": [
      "1\n"
     ]
    }
   ],
   "source": [
    "# 19. Find the largest number that divides two given numbers.\n",
    "def gcd(a, b):\n",
    " while b:\n",
    "  a, b = b, a % b\n",
    " return a\n",
    "x = int(input(\"Enter the first number: \"))\n",
    "y = int(input(\"Enter the second number: \"))\n",
    "print(gcd(x, y))"
   ]
  },
  {
   "cell_type": "code",
   "execution_count": 26,
   "id": "d71891a4-2e5b-4057-a276-66891771a7d5",
   "metadata": {},
   "outputs": [
    {
     "name": "stdout",
     "output_type": "stream",
     "text": [
      "['HELLO', 'WORLD', 'PYTHON']\n"
     ]
    }
   ],
   "source": [
    "# 20. Write a for loop that converts all the elements of a list of strings to uppercase.\n",
    "strings = [\"hello\", \"world\", \"python\", \"programming\"]\n",
    "\n",
    "# Convert each string to uppercase\n",
    "for i in range(len(strings)):\n",
    "    strings[i] = strings[i].upper()\n",
    "\n",
    "print(strings)\n"
   ]
  },
  {
   "cell_type": "code",
   "execution_count": 30,
   "id": "e3eca4e6-40c8-454d-9fc6-c8eb201e3060",
   "metadata": {},
   "outputs": [
    {
     "name": "stdin",
     "output_type": "stream",
     "text": [
      "Enter countdown time in seconds:  5\n"
     ]
    },
    {
     "name": "stdout",
     "output_type": "stream",
     "text": [
      "5\n",
      "4\n",
      "3\n",
      "2\n",
      "1\n",
      "Time's up!\n"
     ]
    }
   ],
   "source": [
    "# 21. Implement a countdown that displays the remaining time (in seconds) and stops when the timereaches zero.\n",
    "import time\n",
    "countdown_time = int(input(\"Enter countdown time in seconds: \"))\n",
    "while countdown_time > 0:\n",
    "     print(countdown_time)\n",
    "     time.sleep(1)\n",
    "     countdown_time -= 1\n",
    "print(\"Time's up!\")"
   ]
  },
  {
   "cell_type": "code",
   "execution_count": null,
   "id": "87bcd785-51db-4b6d-af6b-288a69b940a1",
   "metadata": {},
   "outputs": [],
   "source": []
  }
 ],
 "metadata": {
  "kernelspec": {
   "display_name": "Python 3 (ipykernel)",
   "language": "python",
   "name": "python3"
  },
  "language_info": {
   "codemirror_mode": {
    "name": "ipython",
    "version": 3
   },
   "file_extension": ".py",
   "mimetype": "text/x-python",
   "name": "python",
   "nbconvert_exporter": "python",
   "pygments_lexer": "ipython3",
   "version": "3.10.11"
  }
 },
 "nbformat": 4,
 "nbformat_minor": 5
}
